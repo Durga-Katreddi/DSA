{
  "nbformat": 4,
  "nbformat_minor": 0,
  "metadata": {
    "colab": {
      "provenance": []
    },
    "kernelspec": {
      "name": "python3",
      "display_name": "Python 3"
    },
    "language_info": {
      "name": "python"
    }
  },
  "cells": [
    {
      "cell_type": "markdown",
      "source": [
        "Exercise: Array DataStructure\n",
        "Let us say your expense for every month are listed below,\n",
        "January - 2200\n",
        "February - 2350\n",
        "March - 2600\n",
        "April - 2130\n",
        "May - 2190\n",
        "Create a list to store these monthly expenses and using that find out,\n",
        "\n",
        "1. In Feb, how many dollars you spent extra compare to January?\n",
        "2. Find out your total expense in first quarter (first three months) of the year.\n",
        "3. Find out if you spent exactly 2000 dollars in any month\n",
        "4. June month just finished and your expense is 1980 dollar. Add this item to our monthly expense list\n",
        "5. You returned an item that you bought in a month of April and\n",
        "got a refund of 200$. Make a correction to your monthly expense list\n",
        "based on this"
      ],
      "metadata": {
        "id": "f342LkuGRLIh"
      }
    },
    {
      "cell_type": "code",
      "source": [
        "expense = [2200,2350,2600,2130,2190]\n",
        "\n",
        "#In Feb, how many dollars you spent extra compare to January?\n",
        "print(expense[1]-expense[0])\n",
        "\n",
        "#Find out your total expense in first quarter (first three months) of the year.\n",
        "print(expense[0]+expense[1]+expense[2])\n",
        "\n",
        "#Find out if you spent exactly 2000 dollars in any month\n",
        "for i in expense:\n",
        "  if i == 2000:\n",
        "    print(\"yes\")\n",
        "    break\n",
        "else:\n",
        "  print(\"no\")\n",
        "\n",
        "#June month just finished and your expense is 1980 dollar. Add this item to our monthly expense list\n",
        "expense.append(1980)\n",
        "print(expense)\n",
        "\n",
        "#You returned an item that you bought in a month of April and got a refund of 200$. Make a correction to your monthly expense list based on this\n",
        "expense[3] = expense[3] - 200\n",
        "print(expense)\n"
      ],
      "metadata": {
        "colab": {
          "base_uri": "https://localhost:8080/"
        },
        "id": "tuJaLeorRONE",
        "outputId": "6d71ccca-0b3a-4ef2-e91d-fe0655d9f1d3"
      },
      "execution_count": 8,
      "outputs": [
        {
          "output_type": "stream",
          "name": "stdout",
          "text": [
            "150\n",
            "7150\n",
            "no\n",
            "[2200, 2350, 2600, 2130, 2190, 1980]\n",
            "[2200, 2350, 2600, 1930, 2190, 1980]\n"
          ]
        }
      ]
    },
    {
      "cell_type": "markdown",
      "source": [
        "You have a list of your favourite marvel super heros."
      ],
      "metadata": {
        "id": "6GxQYaBBSwk5"
      }
    },
    {
      "cell_type": "code",
      "source": [
        "heros=['spider man','thor','hulk','iron man','captain america']\n",
        "\n",
        "print(heros)\n"
      ],
      "metadata": {
        "colab": {
          "base_uri": "https://localhost:8080/"
        },
        "id": "4LPbzk9RSYOU",
        "outputId": "d4f3ae14-d7ba-46ab-c4ee-23e0d1b7f436"
      },
      "execution_count": 16,
      "outputs": [
        {
          "output_type": "stream",
          "name": "stdout",
          "text": [
            "['spider man', 'thor', 'hulk', 'iron man', 'captain america']\n"
          ]
        }
      ]
    },
    {
      "cell_type": "markdown",
      "source": [
        "1. Length of the list\n",
        "2. Add 'black panther' at the end of this list\n",
        "3. You realize that you need to add 'black panther' after 'hulk',\n",
        "   so remove it from the list first and then add it after 'hulk'\n",
        "4. Now you don't like thor and hulk because they get angry easily :)\n",
        "   So you want to remove thor and hulk from list and replace them with doctor strange (because he is cool).\n",
        "   Do that with one line of code.\n",
        "5. Sort the heros list in alphabetical order (Hint. Use dir() functions to list down all functions available in list)"
      ],
      "metadata": {
        "id": "bKPyGxArS0dm"
      }
    },
    {
      "cell_type": "code",
      "source": [
        "#Length of the list\n",
        "print(len(heros))\n",
        "\n",
        "#Add 'black panther' at the end of this list\n",
        "heros.append('black panther')\n",
        "print(heros)\n",
        "\n",
        "#You realize that you need to add 'black panther' after 'hulk', so remove it from the list first and then add it after 'hulk'\n",
        "heros.remove('black panther')\n",
        "heros.insert(3,'black panther')\n",
        "print(heros)\n",
        "\n",
        "#Now you don't like thor and hulk because they get angry easily :) So you want to remove thor and hulk from list and replace them with doctor strange (because he is cool). Do that with one line of code.\n",
        "heros[1:3] = ['docor strange']\n",
        "print(heros)\n",
        "\n",
        "#Sort the heros list in alphabetical order (Hint. Use dir() functions to list down all functions available in list)\n",
        "heros.sort()\n",
        "print(heros)\n"
      ],
      "metadata": {
        "colab": {
          "base_uri": "https://localhost:8080/"
        },
        "id": "5Lluku-zSz6q",
        "outputId": "9e398565-0eee-449f-d1f4-52700a142152"
      },
      "execution_count": 22,
      "outputs": [
        {
          "output_type": "stream",
          "name": "stdout",
          "text": [
            "20\n",
            "[' ', 'a', 'black panther', 'black panther', 'black panther', 'black panther', 'c', 'captain america', 'd', 'e', 'g', 'iron man', 'n', 'o', 'o', 'r', 'r', 's', 'spider man', 't', 'black panther']\n",
            "[' ', 'a', 'black panther', 'black panther', 'black panther', 'black panther', 'c', 'captain america', 'd', 'e', 'g', 'iron man', 'n', 'o', 'o', 'r', 'r', 's', 'spider man', 't', 'black panther']\n",
            "[' ', 'docor strange', 'black panther', 'black panther', 'black panther', 'c', 'captain america', 'd', 'e', 'g', 'iron man', 'n', 'o', 'o', 'r', 'r', 's', 'spider man', 't', 'black panther']\n",
            "[' ', 'black panther', 'black panther', 'black panther', 'black panther', 'c', 'captain america', 'd', 'docor strange', 'e', 'g', 'iron man', 'n', 'o', 'o', 'r', 'r', 's', 'spider man', 't']\n"
          ]
        }
      ]
    },
    {
      "cell_type": "code",
      "source": [
        "print('enter max number:')\n",
        "num = input()\n",
        "for i in range(1, int(num)+1):\n",
        "  if i%2 == 1:\n",
        "    print(i)"
      ],
      "metadata": {
        "colab": {
          "base_uri": "https://localhost:8080/"
        },
        "id": "n7ZSTrawS4_t",
        "outputId": "b8598cd1-69a3-423c-b875-2ee2cc5e25ad"
      },
      "execution_count": 25,
      "outputs": [
        {
          "output_type": "stream",
          "name": "stdout",
          "text": [
            "enter max number:\n",
            "10\n",
            "1\n",
            "3\n",
            "5\n",
            "7\n",
            "9\n"
          ]
        }
      ]
    },
    {
      "cell_type": "code",
      "source": [],
      "metadata": {
        "id": "o7iMKWfEU811"
      },
      "execution_count": null,
      "outputs": []
    }
  ]
}